{
 "cells": [
  {
   "cell_type": "markdown",
   "metadata": {},
   "source": [
    "# GenericSimulationLibrary - Test on Jupyter Notebook & MyBinder"
   ]
  },
  {
   "cell_type": "code",
   "execution_count": 1,
   "metadata": {},
   "outputs": [
    {
     "name": "stdout",
     "output_type": "stream",
     "text": [
      "Collecting git+https://github.com/sebastiandres/JupyterSimulationEngine\n",
      "  Cloning https://github.com/sebastiandres/JupyterSimulationEngine to /private/var/folders/68/v1ds0ld152q_wk4sbcns3ckw0000gn/T/pip-req-build-e59w975r\n",
      "  Running command git clone -q https://github.com/sebastiandres/JupyterSimulationEngine /private/var/folders/68/v1ds0ld152q_wk4sbcns3ckw0000gn/T/pip-req-build-e59w975r\n",
      "Requirement already satisfied (use --upgrade to upgrade): SimulationInterface==0.0.2 from git+https://github.com/sebastiandres/JupyterSimulationEngine in /miniconda3/lib/python3.7/site-packages\n",
      "Building wheels for collected packages: SimulationInterface\n",
      "  Building wheel for SimulationInterface (setup.py) ... \u001b[?25ldone\n",
      "\u001b[?25h  Created wheel for SimulationInterface: filename=SimulationInterface-0.0.2-cp37-none-any.whl size=3619 sha256=df5a0ee4ca2d1657bdab6dae03d4bde74d92e9081f46f9a7e76c6d94c3ec1897\n",
      "  Stored in directory: /private/var/folders/68/v1ds0ld152q_wk4sbcns3ckw0000gn/T/pip-ephem-wheel-cache-fyr9t_rb/wheels/7a/e0/f0/09d8fb201565083f42a47b27745d315b91b9182e91a9ce7d70\n",
      "Successfully built SimulationInterface\n",
      "Note: you may need to restart the kernel to use updated packages.\n"
     ]
    }
   ],
   "source": [
    "pip install git+https://github.com/sebastiandres/JupyterSimulationEngine"
   ]
  },
  {
   "cell_type": "code",
   "execution_count": 3,
   "metadata": {},
   "outputs": [
    {
     "name": "stdout",
     "output_type": "stream",
     "text": [
      "Environment:  python\n",
      "The used environment is  python\n",
      "The library version is  0.0.2\n",
      "Elapsed time: 010 seconds \n",
      "Not downloading\n"
     ]
    }
   ],
   "source": [
    "from SimulationInterface import SimulationInterface\n",
    "parameters = {\n",
    "                \"x_min\":0, \n",
    "                \"x_max\":10, \n",
    "                \"x_Npoints\":30,\n",
    "                \"m\":1.5,\n",
    "                \"b\":1,\n",
    "             }\n",
    "data = {\n",
    "        \"x\":[0,1,2,3], \n",
    "        \"y\":[0,1,2,3], \n",
    "        \"plot_options\":None\n",
    "        }\n",
    "\n",
    "JSE = SimulationInterface.SimulationInterface()\n",
    "JSE.status()\n",
    "JSE.new(parameters, data)\n",
    "JSE.simulate()\n",
    "JSE.save()"
   ]
  }
 ],
 "metadata": {
  "kernelspec": {
   "display_name": "Python 3",
   "language": "python",
   "name": "python3"
  },
  "language_info": {
   "codemirror_mode": {
    "name": "ipython",
    "version": 3
   },
   "file_extension": ".py",
   "mimetype": "text/x-python",
   "name": "python",
   "nbconvert_exporter": "python",
   "pygments_lexer": "ipython3",
   "version": "3.7.4"
  }
 },
 "nbformat": 4,
 "nbformat_minor": 2
}
