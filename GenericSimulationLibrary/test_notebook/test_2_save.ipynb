{
 "cells": [
  {
   "cell_type": "code",
   "execution_count": 5,
   "metadata": {},
   "outputs": [
    {
     "name": "stdout",
     "output_type": "stream",
     "text": [
      "Configuration of Simulation:\n",
      "    environment: python\n",
      "    python version: 3.7.4\n",
      "    GenericSimulationLibrary version: 0.0.3\n",
      "    numpy version: 1.17.2\n",
      "    matplotlib version: 3.0.3\n",
      "Inputs:\n",
      "    No inputs\n",
      "Data:\n",
      "    No data\n",
      "Elapsed time: 010 seconds  \n"
     ]
    }
   ],
   "source": [
    "run python_tests/test_save.py"
   ]
  },
  {
   "cell_type": "code",
   "execution_count": 4,
   "metadata": {},
   "outputs": [
    {
     "name": "stdout",
     "output_type": "stream",
     "text": [
      "__init__.py              \u001b[34mpython_tests\u001b[m\u001b[m/            test_load.ipynb\r\n",
      "\u001b[34m__pycache__\u001b[m\u001b[m/             simulation_interface.py  test_save.ipynb\r\n",
      "\u001b[34mjupyter_tests\u001b[m\u001b[m/           test.xlsx                version.py\r\n"
     ]
    }
   ],
   "source": [
    "ls"
   ]
  },
  {
   "cell_type": "code",
   "execution_count": null,
   "metadata": {},
   "outputs": [],
   "source": []
  }
 ],
 "metadata": {
  "kernelspec": {
   "display_name": "Python 3",
   "language": "python",
   "name": "python3"
  },
  "language_info": {
   "codemirror_mode": {
    "name": "ipython",
    "version": 3
   },
   "file_extension": ".py",
   "mimetype": "text/x-python",
   "name": "python",
   "nbconvert_exporter": "python",
   "pygments_lexer": "ipython3",
   "version": "3.7.4"
  }
 },
 "nbformat": 4,
 "nbformat_minor": 2
}
